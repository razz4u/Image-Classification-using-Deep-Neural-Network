{
 "cells": [
  {
   "cell_type": "markdown",
   "metadata": {},
   "source": [
    "## Image (Dog & Cat) Classification using Deep Neural Network"
   ]
  },
  {
   "cell_type": "markdown",
   "metadata": {},
   "source": [
    "### Importing the libraries"
   ]
  },
  {
   "cell_type": "code",
   "execution_count": 2,
   "metadata": {
    "colab": {
     "base_uri": "https://localhost:8080/",
     "height": 125
    },
    "colab_type": "code",
    "executionInfo": {
     "elapsed": 57560,
     "status": "ok",
     "timestamp": 1566082247665,
     "user": {
      "displayName": "ramkant gupta",
      "photoUrl": "",
      "userId": "16190503619930967552"
     },
     "user_tz": 300
    },
    "id": "Lk5lsBFgxX-I",
    "outputId": "f13264bf-6a1b-4bb9-aefd-5a6dac4d702b"
   },
   "outputs": [],
   "source": [
    "import numpy as np\n",
    "import matplotlib.pyplot as plt\n",
    "import os\n",
    "import cv2\n",
    "from tqdm import tqdm\n",
    "\n",
    "DATADIR = \"/input/Project/PetImages\"\n",
    "\n",
    "CATEGORIES = [\"Dog\", \"Cat\"]"
   ]
  },
  {
   "cell_type": "code",
   "execution_count": null,
   "metadata": {
    "colab": {
     "base_uri": "https://localhost:8080/",
     "height": 530
    },
    "colab_type": "code",
    "executionInfo": {
     "elapsed": 83578,
     "status": "ok",
     "timestamp": 1566082380774,
     "user": {
      "displayName": "ramkant gupta",
      "photoUrl": "",
      "userId": "16190503619930967552"
     },
     "user_tz": 300
    },
    "id": "dzDL29Iyx1k-",
    "outputId": "7d3c3787-b9ed-42c6-ba34-e0d70e500742"
   },
   "outputs": [],
   "source": [
    "!pip install tensorflow-gpu==2.0.0-beta1"
   ]
  },
  {
   "cell_type": "markdown",
   "metadata": {},
   "source": [
    "### Importing the dataset "
   ]
  },
  {
   "cell_type": "code",
   "execution_count": 0,
   "metadata": {
    "colab": {},
    "colab_type": "code",
    "id": "6kfLTwsmy_v4"
   },
   "outputs": [],
   "source": [
    "import pickle\n",
    "pickle_in = open(\"/input/Project/X.pickle\",\"rb\")\n",
    "X = pickle.load(pickle_in)\n",
    "\n",
    "pickle_in = open(\"/input/Project/y.pickle\",\"rb\")\n",
    "y = pickle.load(pickle_in)"
   ]
  },
  {
   "cell_type": "code",
   "execution_count": 0,
   "metadata": {
    "colab": {
     "base_uri": "https://localhost:8080/",
     "height": 34
    },
    "colab_type": "code",
    "executionInfo": {
     "elapsed": 448,
     "status": "ok",
     "timestamp": 1566082689271,
     "user": {
      "displayName": "ramkant gupta",
      "photoUrl": "",
      "userId": "16190503619930967552"
     },
     "user_tz": 300
    },
    "id": "wIhM2imgx6XX",
    "outputId": "a345ddaa-6112-4df5-a382-1d2661463080"
   },
   "outputs": [
    {
     "name": "stdout",
     "output_type": "stream",
     "text": [
      "2.0.0-beta1\n"
     ]
    }
   ],
   "source": [
    "import tensorflow as tf\n",
    "print(tf.__version__)"
   ]
  },
  {
   "cell_type": "markdown",
   "metadata": {},
   "source": [
    "### Normalizing Images"
   ]
  },
  {
   "cell_type": "code",
   "execution_count": 0,
   "metadata": {
    "colab": {},
    "colab_type": "code",
    "id": "7VF9CieryGM2"
   },
   "outputs": [],
   "source": [
    "import numpy as np\n",
    "X_temp=X/255.0\n",
    "y_temp=np.asarray(y)"
   ]
  },
  {
   "cell_type": "markdown",
   "metadata": {},
   "source": [
    "### Spliting the dataset into train and test set"
   ]
  },
  {
   "cell_type": "code",
   "execution_count": 0,
   "metadata": {
    "colab": {},
    "colab_type": "code",
    "id": "EUc1wjvSyJwO"
   },
   "outputs": [],
   "source": [
    "import sklearn.model_selection as sk\n",
    "X_train, X_test, y_train, y_test = sk.train_test_split(X_temp, y_temp, test_size=0.25)"
   ]
  },
  {
   "cell_type": "markdown",
   "metadata": {},
   "source": [
    "### Deep Neural Network Model Construction"
   ]
  },
  {
   "cell_type": "code",
   "execution_count": 0,
   "metadata": {
    "colab": {},
    "colab_type": "code",
    "id": "7Wnw2mZkyOt-"
   },
   "outputs": [],
   "source": [
    "model = tf.keras.models.Sequential([tf.keras.layers.Flatten(),\n",
    "                                    tf.keras.layers.Dense(128,activation=tf.nn.relu),\n",
    "                                    tf.keras.layers.Dropout(rate=0.5),\n",
    "                                    tf.keras.layers.BatchNormalization(axis=1),\n",
    "                                    tf.keras.layers.Dense(100,activation=tf.nn.relu),\n",
    "                                    tf.keras.layers.Dropout(rate=0.5),\n",
    "                                    tf.keras.layers.BatchNormalization(axis=1),\n",
    "                                    tf.keras.layers.Dense(100,activation=tf.nn.relu),\n",
    "                                    tf.keras.layers.Dropout(rate=0.4),\n",
    "                                    tf.keras.layers.BatchNormalization(axis=1),\n",
    "                                    tf.keras.layers.Dense(100,activation=tf.nn.relu),\n",
    "                                    tf.keras.layers.Dropout(rate=0.2),\n",
    "                                    tf.keras.layers.BatchNormalization(axis=1),\n",
    "                                    tf.keras.layers.Dense(100,activation=tf.nn.relu),\n",
    "                                    tf.keras.layers.Dropout(rate=0.7),\n",
    "                                    tf.keras.layers.BatchNormalization(axis=1),\n",
    "                                    tf.keras.layers.Dense(2,activation=tf.nn.sigmoid)])"
   ]
  },
  {
   "cell_type": "markdown",
   "metadata": {},
   "source": [
    "### Model  parameter intialization"
   ]
  },
  {
   "cell_type": "code",
   "execution_count": 0,
   "metadata": {
    "colab": {},
    "colab_type": "code",
    "id": "v0FD0K84yU9a"
   },
   "outputs": [],
   "source": [
    "from tensorflow.keras.optimizers import SGD\n",
    "opt = SGD(lr=0.01)\n",
    "model.compile(loss = \"mean_squared_error\", optimizer = opt, metrics=['accuracy'])"
   ]
  },
  {
   "cell_type": "markdown",
   "metadata": {},
   "source": [
    "### Method for Early Stopping"
   ]
  },
  {
   "cell_type": "code",
   "execution_count": 0,
   "metadata": {
    "colab": {},
    "colab_type": "code",
    "id": "obZNpD7XyVtD"
   },
   "outputs": [],
   "source": [
    "class myCallback(tf.keras.callbacks.Callback):\n",
    "  def on_epoch_end(self, epoch, logs={}):\n",
    "    if(logs.get('loss')<0.01):\n",
    "      print(\"\\nReached 3% loss so cancelling training!\")\n",
    "      self.model.stop_training = True\n",
    "\n",
    "callbacks = myCallback()"
   ]
  },
  {
   "cell_type": "markdown",
   "metadata": {},
   "source": [
    "## Training the  Deep Neural Network  model on the Training Image set"
   ]
  },
  {
   "cell_type": "code",
   "execution_count": 0,
   "metadata": {
    "colab": {
     "base_uri": "https://localhost:8080/",
     "height": 1000
    },
    "colab_type": "code",
    "executionInfo": {
     "elapsed": 923961,
     "status": "ok",
     "timestamp": 1566084928074,
     "user": {
      "displayName": "ramkant gupta",
      "photoUrl": "",
      "userId": "16190503619930967552"
     },
     "user_tz": 300
    },
    "id": "iKCm9nU1ybXr",
    "outputId": "1fedcbdc-ef69-4249-92ea-1a8754c85ae1"
   },
   "outputs": [
    {
     "name": "stderr",
     "output_type": "stream",
     "text": [
      "W0817 23:20:03.860084 140527287494528 nn_ops.py:4220] Large dropout rate: 0.7 (>0.5). In TensorFlow 2.x, dropout() uses dropout rate instead of keep_prob. Please ensure that this is intended.\n"
     ]
    },
    {
     "name": "stdout",
     "output_type": "stream",
     "text": [
      "Train on 18709 samples\n",
      "Epoch 1/205\n",
      "18709/18709 [==============================] - 6s 296us/sample - loss: 0.3172 - accuracy: 0.4869\n",
      "Epoch 2/205\n",
      "18709/18709 [==============================] - 4s 227us/sample - loss: 0.3091 - accuracy: 0.4921\n",
      "Epoch 3/205\n",
      "18709/18709 [==============================] - 4s 237us/sample - loss: 0.3012 - accuracy: 0.4944\n",
      "Epoch 4/205\n",
      "18709/18709 [==============================] - 4s 224us/sample - loss: 0.2950 - accuracy: 0.4962\n",
      "Epoch 5/205\n",
      "18709/18709 [==============================] - 4s 228us/sample - loss: 0.2899 - accuracy: 0.4976\n",
      "Epoch 6/205\n",
      "18709/18709 [==============================] - 4s 230us/sample - loss: 0.2817 - accuracy: 0.4989\n",
      "Epoch 7/205\n",
      "18709/18709 [==============================] - 4s 231us/sample - loss: 0.2761 - accuracy: 0.4972\n",
      "Epoch 8/205\n",
      "18709/18709 [==============================] - 4s 232us/sample - loss: 0.2724 - accuracy: 0.4980\n",
      "Epoch 9/205\n",
      "18709/18709 [==============================] - 4s 232us/sample - loss: 0.2664 - accuracy: 0.4983\n",
      "Epoch 10/205\n",
      "18709/18709 [==============================] - 4s 231us/sample - loss: 0.2623 - accuracy: 0.4958\n",
      "Epoch 11/205\n",
      "18709/18709 [==============================] - 4s 237us/sample - loss: 0.2584 - accuracy: 0.4934\n",
      "Epoch 12/205\n",
      "18709/18709 [==============================] - 4s 232us/sample - loss: 0.2556 - accuracy: 0.5000\n",
      "Epoch 13/205\n",
      "18709/18709 [==============================] - 4s 239us/sample - loss: 0.2550 - accuracy: 0.4943\n",
      "Epoch 14/205\n",
      "18709/18709 [==============================] - 4s 239us/sample - loss: 0.2532 - accuracy: 0.4978\n",
      "Epoch 15/205\n",
      "18709/18709 [==============================] - 4s 235us/sample - loss: 0.2517 - accuracy: 0.4932\n",
      "Epoch 16/205\n",
      "18709/18709 [==============================] - 4s 239us/sample - loss: 0.2514 - accuracy: 0.4966\n",
      "Epoch 17/205\n",
      "18709/18709 [==============================] - 4s 240us/sample - loss: 0.2509 - accuracy: 0.4990\n",
      "Epoch 18/205\n",
      "18709/18709 [==============================] - 4s 240us/sample - loss: 0.2507 - accuracy: 0.4990\n",
      "Epoch 19/205\n",
      "18709/18709 [==============================] - 4s 237us/sample - loss: 0.2507 - accuracy: 0.4994\n",
      "Epoch 20/205\n",
      "18709/18709 [==============================] - 4s 237us/sample - loss: 0.2502 - accuracy: 0.4956\n",
      "Epoch 21/205\n",
      "18709/18709 [==============================] - 5s 241us/sample - loss: 0.2501 - accuracy: 0.4906\n",
      "Epoch 22/205\n",
      "18709/18709 [==============================] - 4s 234us/sample - loss: 0.2501 - accuracy: 0.4967\n",
      "Epoch 23/205\n",
      "18709/18709 [==============================] - 4s 232us/sample - loss: 0.2499 - accuracy: 0.4969\n",
      "Epoch 24/205\n",
      "18709/18709 [==============================] - 4s 238us/sample - loss: 0.2496 - accuracy: 0.4959\n",
      "Epoch 25/205\n",
      "18709/18709 [==============================] - 4s 240us/sample - loss: 0.2499 - accuracy: 0.4986\n",
      "Epoch 26/205\n",
      "18709/18709 [==============================] - 5s 244us/sample - loss: 0.2498 - accuracy: 0.4946\n",
      "Epoch 27/205\n",
      "18709/18709 [==============================] - 5s 246us/sample - loss: 0.2499 - accuracy: 0.4999\n",
      "Epoch 28/205\n",
      "18709/18709 [==============================] - 5s 253us/sample - loss: 0.2499 - accuracy: 0.4960\n",
      "Epoch 29/205\n",
      "18709/18709 [==============================] - 5s 250us/sample - loss: 0.2500 - accuracy: 0.4913\n",
      "Epoch 30/205\n",
      "18709/18709 [==============================] - 5s 249us/sample - loss: 0.2498 - accuracy: 0.4957\n",
      "Epoch 31/205\n",
      "18709/18709 [==============================] - 5s 241us/sample - loss: 0.2498 - accuracy: 0.4975\n",
      "Epoch 32/205\n",
      "18709/18709 [==============================] - 5s 244us/sample - loss: 0.2499 - accuracy: 0.4974\n",
      "Epoch 33/205\n",
      "18709/18709 [==============================] - 5s 247us/sample - loss: 0.2498 - accuracy: 0.4976\n",
      "Epoch 34/205\n",
      "18709/18709 [==============================] - 5s 244us/sample - loss: 0.2496 - accuracy: 0.4940\n",
      "Epoch 35/205\n",
      "18709/18709 [==============================] - 5s 243us/sample - loss: 0.2498 - accuracy: 0.4963\n",
      "Epoch 36/205\n",
      "18709/18709 [==============================] - 5s 255us/sample - loss: 0.2495 - accuracy: 0.4908\n",
      "Epoch 37/205\n",
      "18709/18709 [==============================] - 5s 249us/sample - loss: 0.2496 - accuracy: 0.4901\n",
      "Epoch 38/205\n",
      "18709/18709 [==============================] - 5s 246us/sample - loss: 0.2493 - accuracy: 0.4923\n",
      "Epoch 39/205\n",
      "18709/18709 [==============================] - 5s 245us/sample - loss: 0.2496 - accuracy: 0.4952\n",
      "Epoch 40/205\n",
      "18709/18709 [==============================] - 5s 245us/sample - loss: 0.2494 - accuracy: 0.4953\n",
      "Epoch 41/205\n",
      "18709/18709 [==============================] - 5s 247us/sample - loss: 0.2497 - accuracy: 0.4909\n",
      "Epoch 42/205\n",
      "18709/18709 [==============================] - 5s 242us/sample - loss: 0.2494 - accuracy: 0.4959\n",
      "Epoch 43/205\n",
      "18709/18709 [==============================] - 5s 244us/sample - loss: 0.2493 - accuracy: 0.4870\n",
      "Epoch 44/205\n",
      "18709/18709 [==============================] - 4s 237us/sample - loss: 0.2489 - accuracy: 0.4923\n",
      "Epoch 45/205\n",
      "18709/18709 [==============================] - 4s 237us/sample - loss: 0.2485 - accuracy: 0.4918\n",
      "Epoch 46/205\n",
      "18709/18709 [==============================] - 5s 244us/sample - loss: 0.2489 - accuracy: 0.4890\n",
      "Epoch 47/205\n",
      "18709/18709 [==============================] - 5s 253us/sample - loss: 0.2486 - accuracy: 0.4915\n",
      "Epoch 48/205\n",
      "18709/18709 [==============================] - 5s 244us/sample - loss: 0.2486 - accuracy: 0.4884\n",
      "Epoch 49/205\n",
      "18709/18709 [==============================] - 5s 245us/sample - loss: 0.2483 - accuracy: 0.4928\n",
      "Epoch 50/205\n",
      "18709/18709 [==============================] - 5s 243us/sample - loss: 0.2486 - accuracy: 0.4913\n",
      "Epoch 51/205\n",
      "18709/18709 [==============================] - 5s 242us/sample - loss: 0.2480 - accuracy: 0.4889\n",
      "Epoch 52/205\n",
      "18709/18709 [==============================] - 5s 242us/sample - loss: 0.2482 - accuracy: 0.4917\n",
      "Epoch 53/205\n",
      "18709/18709 [==============================] - 5s 242us/sample - loss: 0.2477 - accuracy: 0.4858\n",
      "Epoch 54/205\n",
      "18709/18709 [==============================] - 4s 238us/sample - loss: 0.2480 - accuracy: 0.4890\n",
      "Epoch 55/205\n",
      "18709/18709 [==============================] - 4s 238us/sample - loss: 0.2480 - accuracy: 0.4913\n",
      "Epoch 56/205\n",
      "18709/18709 [==============================] - 4s 237us/sample - loss: 0.2471 - accuracy: 0.4896\n",
      "Epoch 57/205\n",
      "18709/18709 [==============================] - 4s 238us/sample - loss: 0.2472 - accuracy: 0.4852\n",
      "Epoch 58/205\n",
      "18709/18709 [==============================] - 4s 236us/sample - loss: 0.2474 - accuracy: 0.4907\n",
      "Epoch 59/205\n",
      "18709/18709 [==============================] - 4s 238us/sample - loss: 0.2468 - accuracy: 0.4883\n",
      "Epoch 60/205\n",
      "18709/18709 [==============================] - 4s 240us/sample - loss: 0.2471 - accuracy: 0.4906\n",
      "Epoch 61/205\n",
      "18709/18709 [==============================] - 4s 239us/sample - loss: 0.2465 - accuracy: 0.4908\n",
      "Epoch 62/205\n",
      "18709/18709 [==============================] - 4s 238us/sample - loss: 0.2463 - accuracy: 0.4899\n",
      "Epoch 63/205\n",
      "18709/18709 [==============================] - 4s 238us/sample - loss: 0.2463 - accuracy: 0.4956\n",
      "Epoch 64/205\n",
      "18709/18709 [==============================] - 5s 242us/sample - loss: 0.2462 - accuracy: 0.4917\n",
      "Epoch 65/205\n",
      "18709/18709 [==============================] - 5s 242us/sample - loss: 0.2454 - accuracy: 0.4869\n",
      "Epoch 66/205\n",
      "18709/18709 [==============================] - 4s 240us/sample - loss: 0.2460 - accuracy: 0.4884\n",
      "Epoch 67/205\n",
      "18709/18709 [==============================] - 4s 239us/sample - loss: 0.2460 - accuracy: 0.4960\n",
      "Epoch 68/205\n",
      "18709/18709 [==============================] - 4s 238us/sample - loss: 0.2458 - accuracy: 0.4894\n",
      "Epoch 69/205\n",
      "18709/18709 [==============================] - 5s 242us/sample - loss: 0.2458 - accuracy: 0.4904\n",
      "Epoch 70/205\n",
      "18709/18709 [==============================] - 5s 248us/sample - loss: 0.2461 - accuracy: 0.4918\n",
      "Epoch 71/205\n",
      "18709/18709 [==============================] - 5s 248us/sample - loss: 0.2461 - accuracy: 0.5002\n",
      "Epoch 72/205\n",
      "18709/18709 [==============================] - 5s 241us/sample - loss: 0.2455 - accuracy: 0.4977\n",
      "Epoch 73/205\n",
      "18709/18709 [==============================] - 4s 237us/sample - loss: 0.2465 - accuracy: 0.5010\n",
      "Epoch 74/205\n",
      "18709/18709 [==============================] - 4s 237us/sample - loss: 0.2461 - accuracy: 0.4979\n",
      "Epoch 75/205\n",
      "18709/18709 [==============================] - 4s 236us/sample - loss: 0.2456 - accuracy: 0.5009\n",
      "Epoch 76/205\n",
      "18709/18709 [==============================] - 4s 240us/sample - loss: 0.2447 - accuracy: 0.5007\n",
      "Epoch 77/205\n",
      "18709/18709 [==============================] - 4s 238us/sample - loss: 0.2438 - accuracy: 0.5034\n",
      "Epoch 78/205\n",
      "18709/18709 [==============================] - 5s 241us/sample - loss: 0.2458 - accuracy: 0.5101\n",
      "Epoch 79/205\n",
      "18709/18709 [==============================] - 5s 242us/sample - loss: 0.2447 - accuracy: 0.5094\n",
      "Epoch 80/205\n",
      "18709/18709 [==============================] - 5s 241us/sample - loss: 0.2451 - accuracy: 0.5183\n",
      "Epoch 81/205\n",
      "18709/18709 [==============================] - 4s 240us/sample - loss: 0.2440 - accuracy: 0.5237\n",
      "Epoch 82/205\n",
      "18709/18709 [==============================] - 5s 241us/sample - loss: 0.2444 - accuracy: 0.5259\n",
      "Epoch 83/205\n",
      "18709/18709 [==============================] - 5s 244us/sample - loss: 0.2435 - accuracy: 0.5323\n",
      "Epoch 84/205\n",
      "18709/18709 [==============================] - 4s 239us/sample - loss: 0.2438 - accuracy: 0.5382\n",
      "Epoch 85/205\n",
      "18709/18709 [==============================] - 4s 238us/sample - loss: 0.2438 - accuracy: 0.5468\n",
      "Epoch 86/205\n",
      "18709/18709 [==============================] - 4s 238us/sample - loss: 0.2434 - accuracy: 0.5725\n",
      "Epoch 87/205\n",
      "18709/18709 [==============================] - 4s 239us/sample - loss: 0.2442 - accuracy: 0.5793\n",
      "Epoch 88/205\n",
      "18709/18709 [==============================] - 4s 239us/sample - loss: 0.2449 - accuracy: 0.6082\n",
      "Epoch 89/205\n",
      "18709/18709 [==============================] - 5s 241us/sample - loss: 0.2442 - accuracy: 0.6195\n",
      "Epoch 90/205\n",
      "18709/18709 [==============================] - 5s 243us/sample - loss: 0.2434 - accuracy: 0.6345\n",
      "Epoch 91/205\n",
      "18709/18709 [==============================] - 5s 241us/sample - loss: 0.2448 - accuracy: 0.6452\n",
      "Epoch 92/205\n",
      "18709/18709 [==============================] - 4s 239us/sample - loss: 0.2443 - accuracy: 0.6691\n",
      "Epoch 93/205\n",
      "18709/18709 [==============================] - 4s 237us/sample - loss: 0.2423 - accuracy: 0.6900\n",
      "Epoch 94/205\n",
      "18709/18709 [==============================] - 4s 237us/sample - loss: 0.2433 - accuracy: 0.7083\n",
      "Epoch 95/205\n",
      "18709/18709 [==============================] - 4s 235us/sample - loss: 0.2434 - accuracy: 0.7292\n",
      "Epoch 96/205\n",
      "18709/18709 [==============================] - 4s 235us/sample - loss: 0.2422 - accuracy: 0.7418\n",
      "Epoch 97/205\n",
      "18709/18709 [==============================] - 4s 235us/sample - loss: 0.2426 - accuracy: 0.7588\n",
      "Epoch 98/205\n",
      "18709/18709 [==============================] - 4s 235us/sample - loss: 0.2421 - accuracy: 0.7821\n",
      "Epoch 99/205\n",
      "18709/18709 [==============================] - 4s 239us/sample - loss: 0.2425 - accuracy: 0.8029\n",
      "Epoch 100/205\n",
      "18709/18709 [==============================] - 5s 244us/sample - loss: 0.2427 - accuracy: 0.8246\n",
      "Epoch 101/205\n",
      "18709/18709 [==============================] - 5s 247us/sample - loss: 0.2427 - accuracy: 0.8446\n",
      "Epoch 102/205\n",
      "18709/18709 [==============================] - 4s 236us/sample - loss: 0.2425 - accuracy: 0.8591\n",
      "Epoch 103/205\n",
      "18709/18709 [==============================] - 4s 235us/sample - loss: 0.2414 - accuracy: 0.8591\n",
      "Epoch 104/205\n",
      "18709/18709 [==============================] - 4s 240us/sample - loss: 0.2418 - accuracy: 0.8656\n",
      "Epoch 105/205\n",
      "18709/18709 [==============================] - 5s 241us/sample - loss: 0.2415 - accuracy: 0.8469\n",
      "Epoch 106/205\n",
      "18709/18709 [==============================] - 4s 239us/sample - loss: 0.2415 - accuracy: 0.8535\n",
      "Epoch 107/205\n",
      "18709/18709 [==============================] - 4s 240us/sample - loss: 0.2405 - accuracy: 0.8632\n",
      "Epoch 108/205\n",
      "18709/18709 [==============================] - 4s 239us/sample - loss: 0.2398 - accuracy: 0.8819\n",
      "Epoch 109/205\n",
      "18709/18709 [==============================] - 4s 239us/sample - loss: 0.2400 - accuracy: 0.8677\n",
      "Epoch 110/205\n",
      "18709/18709 [==============================] - 4s 240us/sample - loss: 0.2403 - accuracy: 0.8735\n",
      "Epoch 111/205\n",
      "18709/18709 [==============================] - 4s 237us/sample - loss: 0.2400 - accuracy: 0.8599\n",
      "Epoch 112/205\n",
      "18709/18709 [==============================] - 4s 236us/sample - loss: 0.2395 - accuracy: 0.8636\n",
      "Epoch 113/205\n",
      "18709/18709 [==============================] - 5s 241us/sample - loss: 0.2396 - accuracy: 0.8631\n",
      "Epoch 114/205\n",
      "18709/18709 [==============================] - 4s 240us/sample - loss: 0.2398 - accuracy: 0.8771\n",
      "Epoch 115/205\n",
      "18709/18709 [==============================] - 5s 249us/sample - loss: 0.2394 - accuracy: 0.8924\n",
      "Epoch 116/205\n",
      "18709/18709 [==============================] - 5s 243us/sample - loss: 0.2400 - accuracy: 0.9088\n",
      "Epoch 117/205\n",
      "18709/18709 [==============================] - 4s 238us/sample - loss: 0.2403 - accuracy: 0.9127\n",
      "Epoch 118/205\n",
      "18709/18709 [==============================] - 4s 235us/sample - loss: 0.2401 - accuracy: 0.8939\n",
      "Epoch 119/205\n",
      "18709/18709 [==============================] - 4s 237us/sample - loss: 0.2399 - accuracy: 0.8930\n",
      "Epoch 120/205\n",
      "18709/18709 [==============================] - 4s 239us/sample - loss: 0.2390 - accuracy: 0.9052\n",
      "Epoch 121/205\n",
      "18709/18709 [==============================] - 4s 236us/sample - loss: 0.2393 - accuracy: 0.8959\n",
      "Epoch 122/205\n",
      "18709/18709 [==============================] - 4s 232us/sample - loss: 0.2403 - accuracy: 0.8936\n",
      "Epoch 123/205\n",
      "18709/18709 [==============================] - 4s 233us/sample - loss: 0.2397 - accuracy: 0.8836\n",
      "Epoch 124/205\n",
      "18709/18709 [==============================] - 4s 235us/sample - loss: 0.2398 - accuracy: 0.8878\n",
      "Epoch 125/205\n",
      "18709/18709 [==============================] - 4s 235us/sample - loss: 0.2387 - accuracy: 0.8920\n",
      "Epoch 126/205\n",
      "18709/18709 [==============================] - 4s 236us/sample - loss: 0.2396 - accuracy: 0.8800\n",
      "Epoch 127/205\n",
      "18709/18709 [==============================] - 4s 234us/sample - loss: 0.2404 - accuracy: 0.8834\n",
      "Epoch 128/205\n",
      "18709/18709 [==============================] - 4s 235us/sample - loss: 0.2401 - accuracy: 0.8910\n",
      "Epoch 129/205\n",
      "18709/18709 [==============================] - 4s 237us/sample - loss: 0.2395 - accuracy: 0.8981\n",
      "Epoch 130/205\n",
      "18709/18709 [==============================] - 4s 238us/sample - loss: 0.2391 - accuracy: 0.9053\n",
      "Epoch 131/205\n",
      "18709/18709 [==============================] - 4s 234us/sample - loss: 0.2397 - accuracy: 0.8963\n",
      "Epoch 132/205\n",
      "18709/18709 [==============================] - 4s 233us/sample - loss: 0.2396 - accuracy: 0.8893\n",
      "Epoch 133/205\n",
      "18709/18709 [==============================] - 4s 234us/sample - loss: 0.2389 - accuracy: 0.8926\n",
      "Epoch 134/205\n",
      "18709/18709 [==============================] - 4s 235us/sample - loss: 0.2396 - accuracy: 0.8986\n",
      "Epoch 135/205\n",
      "18709/18709 [==============================] - 4s 234us/sample - loss: 0.2397 - accuracy: 0.8910\n",
      "Epoch 136/205\n",
      "18709/18709 [==============================] - 4s 237us/sample - loss: 0.2390 - accuracy: 0.8726\n",
      "Epoch 137/205\n",
      "18709/18709 [==============================] - 4s 235us/sample - loss: 0.2380 - accuracy: 0.8595\n",
      "Epoch 138/205\n",
      "18709/18709 [==============================] - 4s 235us/sample - loss: 0.2384 - accuracy: 0.8564\n",
      "Epoch 139/205\n",
      "18709/18709 [==============================] - 5s 252us/sample - loss: 0.2383 - accuracy: 0.8680\n",
      "Epoch 140/205\n",
      "18709/18709 [==============================] - 5s 254us/sample - loss: 0.2378 - accuracy: 0.8811\n",
      "Epoch 141/205\n",
      "18709/18709 [==============================] - 5s 244us/sample - loss: 0.2383 - accuracy: 0.8799\n",
      "Epoch 142/205\n",
      "18709/18709 [==============================] - 4s 238us/sample - loss: 0.2400 - accuracy: 0.8787\n",
      "Epoch 143/205\n",
      "18709/18709 [==============================] - 4s 237us/sample - loss: 0.2391 - accuracy: 0.8747\n",
      "Epoch 144/205\n",
      "18709/18709 [==============================] - 5s 243us/sample - loss: 0.2413 - accuracy: 0.8783\n",
      "Epoch 145/205\n",
      "18709/18709 [==============================] - 4s 239us/sample - loss: 0.2402 - accuracy: 0.8797\n",
      "Epoch 146/205\n",
      "18709/18709 [==============================] - 4s 237us/sample - loss: 0.2416 - accuracy: 0.8634\n",
      "Epoch 147/205\n",
      "18709/18709 [==============================] - 4s 239us/sample - loss: 0.2399 - accuracy: 0.8535\n",
      "Epoch 148/205\n",
      "18709/18709 [==============================] - 4s 237us/sample - loss: 0.2405 - accuracy: 0.8481\n",
      "Epoch 149/205\n",
      "18709/18709 [==============================] - 4s 235us/sample - loss: 0.2417 - accuracy: 0.8598\n",
      "Epoch 150/205\n",
      "18709/18709 [==============================] - 4s 235us/sample - loss: 0.2396 - accuracy: 0.8929\n",
      "Epoch 151/205\n",
      "18709/18709 [==============================] - 4s 239us/sample - loss: 0.2383 - accuracy: 0.9133\n",
      "Epoch 152/205\n",
      "18709/18709 [==============================] - 4s 237us/sample - loss: 0.2388 - accuracy: 0.9011\n",
      "Epoch 153/205\n",
      "18709/18709 [==============================] - 4s 238us/sample - loss: 0.2400 - accuracy: 0.8821\n",
      "Epoch 154/205\n",
      "18709/18709 [==============================] - 4s 238us/sample - loss: 0.2402 - accuracy: 0.8917\n",
      "Epoch 155/205\n",
      "18709/18709 [==============================] - 4s 237us/sample - loss: 0.2393 - accuracy: 0.8956\n",
      "Epoch 156/205\n",
      "18709/18709 [==============================] - 4s 237us/sample - loss: 0.2378 - accuracy: 0.8856\n",
      "Epoch 157/205\n",
      "18709/18709 [==============================] - 4s 237us/sample - loss: 0.2391 - accuracy: 0.8929\n",
      "Epoch 158/205\n",
      "18709/18709 [==============================] - 4s 234us/sample - loss: 0.2394 - accuracy: 0.9068\n",
      "Epoch 159/205\n",
      "18709/18709 [==============================] - 4s 235us/sample - loss: 0.2400 - accuracy: 0.9113\n",
      "Epoch 160/205\n",
      "18709/18709 [==============================] - 4s 240us/sample - loss: 0.2409 - accuracy: 0.9093\n",
      "Epoch 161/205\n",
      "18709/18709 [==============================] - 5s 245us/sample - loss: 0.2402 - accuracy: 0.9090\n",
      "Epoch 162/205\n",
      "18709/18709 [==============================] - 4s 237us/sample - loss: 0.2403 - accuracy: 0.8894\n",
      "Epoch 163/205\n",
      "18709/18709 [==============================] - 4s 238us/sample - loss: 0.2410 - accuracy: 0.8871\n",
      "Epoch 164/205\n",
      "18709/18709 [==============================] - 4s 238us/sample - loss: 0.2390 - accuracy: 0.8947\n",
      "Epoch 165/205\n",
      "18709/18709 [==============================] - 4s 238us/sample - loss: 0.2401 - accuracy: 0.8825\n",
      "Epoch 166/205\n",
      "18709/18709 [==============================] - 4s 237us/sample - loss: 0.2396 - accuracy: 0.8665\n",
      "Epoch 167/205\n",
      "18709/18709 [==============================] - 4s 233us/sample - loss: 0.2394 - accuracy: 0.8841\n",
      "Epoch 168/205\n",
      "18709/18709 [==============================] - 4s 232us/sample - loss: 0.2383 - accuracy: 0.8942\n",
      "Epoch 169/205\n",
      "18709/18709 [==============================] - 4s 235us/sample - loss: 0.2379 - accuracy: 0.8866\n",
      "Epoch 170/205\n",
      "18709/18709 [==============================] - 4s 235us/sample - loss: 0.2394 - accuracy: 0.8790\n",
      "Epoch 171/205\n",
      "18709/18709 [==============================] - 4s 237us/sample - loss: 0.2393 - accuracy: 0.8907\n",
      "Epoch 172/205\n",
      "18709/18709 [==============================] - 5s 243us/sample - loss: 0.2384 - accuracy: 0.8787\n",
      "Epoch 173/205\n",
      "18709/18709 [==============================] - 5s 245us/sample - loss: 0.2386 - accuracy: 0.8906\n",
      "Epoch 174/205\n",
      "18709/18709 [==============================] - 5s 243us/sample - loss: 0.2395 - accuracy: 0.9142\n",
      "Epoch 175/205\n",
      "18709/18709 [==============================] - 4s 232us/sample - loss: 0.2400 - accuracy: 0.9110\n",
      "Epoch 176/205\n",
      "18709/18709 [==============================] - 4s 230us/sample - loss: 0.2391 - accuracy: 0.9138\n",
      "Epoch 177/205\n",
      "18709/18709 [==============================] - 4s 231us/sample - loss: 0.2415 - accuracy: 0.9052\n",
      "Epoch 178/205\n",
      "18709/18709 [==============================] - 4s 237us/sample - loss: 0.2407 - accuracy: 0.9019\n",
      "Epoch 179/205\n",
      "18709/18709 [==============================] - 4s 234us/sample - loss: 0.2402 - accuracy: 0.8982\n",
      "Epoch 180/205\n",
      "18709/18709 [==============================] - 4s 238us/sample - loss: 0.2394 - accuracy: 0.9019\n",
      "Epoch 181/205\n",
      "18709/18709 [==============================] - 4s 237us/sample - loss: 0.2394 - accuracy: 0.9044\n",
      "Epoch 182/205\n",
      "18709/18709 [==============================] - 4s 236us/sample - loss: 0.2400 - accuracy: 0.9126\n",
      "Epoch 183/205\n",
      "18709/18709 [==============================] - 4s 237us/sample - loss: 0.2399 - accuracy: 0.9253\n",
      "Epoch 184/205\n",
      "18709/18709 [==============================] - 5s 243us/sample - loss: 0.2395 - accuracy: 0.9159\n",
      "Epoch 185/205\n",
      "18709/18709 [==============================] - 5s 245us/sample - loss: 0.2396 - accuracy: 0.9151\n",
      "Epoch 186/205\n",
      "18709/18709 [==============================] - 4s 239us/sample - loss: 0.2393 - accuracy: 0.9206\n",
      "Epoch 187/205\n",
      "18709/18709 [==============================] - 5s 241us/sample - loss: 0.2379 - accuracy: 0.9130\n",
      "Epoch 188/205\n",
      "18709/18709 [==============================] - 5s 242us/sample - loss: 0.2386 - accuracy: 0.9104\n",
      "Epoch 189/205\n",
      "18709/18709 [==============================] - 5s 241us/sample - loss: 0.2376 - accuracy: 0.8932\n",
      "Epoch 190/205\n",
      "18709/18709 [==============================] - 4s 240us/sample - loss: 0.2395 - accuracy: 0.9051\n",
      "Epoch 191/205\n",
      "18709/18709 [==============================] - 4s 240us/sample - loss: 0.2389 - accuracy: 0.9132\n",
      "Epoch 192/205\n",
      "18709/18709 [==============================] - 5s 243us/sample - loss: 0.2387 - accuracy: 0.9115\n",
      "Epoch 193/205\n",
      "18709/18709 [==============================] - 5s 242us/sample - loss: 0.2393 - accuracy: 0.8879\n",
      "Epoch 194/205\n",
      "18709/18709 [==============================] - 5s 241us/sample - loss: 0.2399 - accuracy: 0.8921\n",
      "Epoch 195/205\n",
      "18709/18709 [==============================] - 4s 239us/sample - loss: 0.2400 - accuracy: 0.9076\n",
      "Epoch 196/205\n",
      "18709/18709 [==============================] - 4s 240us/sample - loss: 0.2395 - accuracy: 0.9057\n",
      "Epoch 197/205\n",
      "18709/18709 [==============================] - 5s 241us/sample - loss: 0.2389 - accuracy: 0.8837\n",
      "Epoch 198/205\n",
      "18709/18709 [==============================] - 5s 244us/sample - loss: 0.2422 - accuracy: 0.8920\n",
      "Epoch 199/205\n",
      "18709/18709 [==============================] - 5s 246us/sample - loss: 0.2403 - accuracy: 0.9053\n",
      "Epoch 200/205\n",
      "18709/18709 [==============================] - 5s 245us/sample - loss: 0.2408 - accuracy: 0.9073\n",
      "Epoch 201/205\n",
      "18709/18709 [==============================] - 5s 243us/sample - loss: 0.2407 - accuracy: 0.9031\n",
      "Epoch 202/205\n",
      "18709/18709 [==============================] - 5s 243us/sample - loss: 0.2403 - accuracy: 0.9043\n",
      "Epoch 203/205\n",
      "18709/18709 [==============================] - 5s 244us/sample - loss: 0.2395 - accuracy: 0.9119\n",
      "Epoch 204/205\n",
      "18709/18709 [==============================] - 5s 244us/sample - loss: 0.2389 - accuracy: 0.9057\n",
      "Epoch 205/205\n",
      "18709/18709 [==============================] - 5s 246us/sample - loss: 0.2383 - accuracy: 0.9247\n"
     ]
    },
    {
     "data": {
      "text/plain": [
       "<tensorflow.python.keras.callbacks.History at 0x7fce8a86dc88>"
      ]
     },
     "execution_count": 17,
     "metadata": {
      "tags": []
     },
     "output_type": "execute_result"
    }
   ],
   "source": [
    "model.fit(X_train, y_train, batch_size=50,epochs=205,callbacks=[callbacks])"
   ]
  },
  {
   "cell_type": "markdown",
   "metadata": {},
   "source": [
    "### Saving the trained Model"
   ]
  },
  {
   "cell_type": "code",
   "execution_count": 0,
   "metadata": {
    "colab": {
     "base_uri": "https://localhost:8080/",
     "height": 54
    },
    "colab_type": "code",
    "executionInfo": {
     "elapsed": 4646,
     "status": "ok",
     "timestamp": 1566084949260,
     "user": {
      "displayName": "ramkant gupta",
      "photoUrl": "",
      "userId": "16190503619930967552"
     },
     "user_tz": 300
    },
    "id": "HSOCW-4Yyfyy",
    "outputId": "8c2c8e3e-3384-47ca-d750-a49af5829573"
   },
   "outputs": [
    {
     "name": "stderr",
     "output_type": "stream",
     "text": [
      "W0817 23:35:46.438964 140527287494528 nn_ops.py:4220] Large dropout rate: 0.7 (>0.5). In TensorFlow 2.x, dropout() uses dropout rate instead of keep_prob. Please ensure that this is intended.\n"
     ]
    }
   ],
   "source": [
    "tf.saved_model.save(model, \"/input/Project/ImgClassiferTrainedModel_softmax\")"
   ]
  },
  {
   "cell_type": "markdown",
   "metadata": {},
   "source": [
    "### Model Evaluation on Test Image set"
   ]
  },
  {
   "cell_type": "code",
   "execution_count": 0,
   "metadata": {
    "colab": {
     "base_uri": "https://localhost:8080/",
     "height": 52
    },
    "colab_type": "code",
    "executionInfo": {
     "elapsed": 1859,
     "status": "ok",
     "timestamp": 1566084952869,
     "user": {
      "displayName": "ramkant gupta",
      "photoUrl": "",
      "userId": "16190503619930967552"
     },
     "user_tz": 300
    },
    "id": "QmkxUcqnyjlK",
    "outputId": "c979bb8e-996f-491c-c16c-165987e711bd"
   },
   "outputs": [
    {
     "name": "stdout",
     "output_type": "stream",
     "text": [
      "6237/6237 [==============================] - 1s 186us/sample - loss: 0.2470 - accuracy: 0.9844\n"
     ]
    },
    {
     "data": {
      "text/plain": [
       "[0.2469567992575604, 0.98444766]"
      ]
     },
     "execution_count": 19,
     "metadata": {
      "tags": []
     },
     "output_type": "execute_result"
    }
   ],
   "source": [
    "model.evaluate(X_test, y_test)"
   ]
  },
  {
   "cell_type": "markdown",
   "metadata": {},
   "source": [
    "### Predicting the input Image"
   ]
  },
  {
   "cell_type": "code",
   "execution_count": 0,
   "metadata": {
    "colab": {
     "base_uri": "https://localhost:8080/",
     "height": 269
    },
    "colab_type": "code",
    "executionInfo": {
     "elapsed": 1216,
     "status": "ok",
     "timestamp": 1566085830670,
     "user": {
      "displayName": "ramkant gupta",
      "photoUrl": "",
      "userId": "16190503619930967552"
     },
     "user_tz": 300
    },
    "id": "TnvQHsylynFP",
    "outputId": "35b5ecec-887b-4473-b703-b4d74fa79626"
   },
   "outputs": [
    {
     "data": {
      "image/png": "[encoded data removed]",
      "text/plain": [
       "<Figure size 432x288 with 1 Axes>"
      ]
     },
     "metadata": {
      "tags": []
     },
     "output_type": "display_data"
    }
   ],
   "source": [
    "IMG_SIZE = 80\n",
    "img_array = cv2.imread(\"/content/gdrive/My Drive/Project/PetImages/Dog/550.jpg\" ,cv2.IMREAD_GRAYSCALE)  \n",
    "#new_array = cv2.resize(img_array, (IMG_SIZE, IMG_SIZE))\n",
    "\n",
    "\n",
    "new_array = cv2.resize(img_array, (IMG_SIZE, IMG_SIZE))\n",
    "plt.imshow(new_array/255.0, cmap='gray')\n",
    "plt.show()"
   ]
  },
  {
   "cell_type": "code",
   "execution_count": 0,
   "metadata": {
    "colab": {
     "base_uri": "https://localhost:8080/",
     "height": 70
    },
    "colab_type": "code",
    "executionInfo": {
     "elapsed": 437,
     "status": "ok",
     "timestamp": 1566085836541,
     "user": {
      "displayName": "ramkant gupta",
      "photoUrl": "",
      "userId": "16190503619930967552"
     },
     "user_tz": 300
    },
    "id": "OiygdnvyyxMc",
    "outputId": "e249a563-00d2-48ac-f41e-4ca0d3bbe9d7"
   },
   "outputs": [
    {
     "name": "stdout",
     "output_type": "stream",
     "text": [
      "(80, 80, 1)\n",
      "(6400,)\n",
      "(6400, 1)\n"
     ]
    }
   ],
   "source": [
    "new_array=np.reshape(new_array,(80, 80, 1))\n",
    "print(new_array.shape)\n",
    "new_array=new_array.flatten()/255.0\n",
    "print(new_array.shape)\n",
    "new_array_2=np.reshape(new_array,(6400, 1))\n",
    "print(new_array_2.shape)"
   ]
  },
  {
   "cell_type": "code",
   "execution_count": 0,
   "metadata": {
    "colab": {
     "base_uri": "https://localhost:8080/",
     "height": 70
    },
    "colab_type": "code",
    "executionInfo": {
     "elapsed": 434,
     "status": "ok",
     "timestamp": 1566085838460,
     "user": {
      "displayName": "ramkant gupta",
      "photoUrl": "",
      "userId": "16190503619930967552"
     },
     "user_tz": 300
    },
    "id": "nt_J5Mrcyzxb",
    "outputId": "d8c8321a-7018-4245-cb14-9912359efb9b"
   },
   "outputs": [
    {
     "name": "stdout",
     "output_type": "stream",
     "text": [
      "[[0.48928446 0.48928446]]\n",
      "[0]\n",
      "Dog\n"
     ]
    }
   ],
   "source": [
    "class_prob=model.predict(new_array_2.T,batch_size=1)\n",
    "print(class_prob)\n",
    "classifications=model.predict_classes(new_array_2.T,batch_size=1)\n",
    "print(classifications)\n",
    "print(CATEGORIES[classifications[0]])\n"
   ]
  }
 ],
 "metadata": {
  "colab": {
   "name": "ImageClassifier2.ipynb",
   "provenance": []
  },
  "kernelspec": {
   "display_name": "Python 3",
   "language": "python",
   "name": "python3"
  },
  "language_info": {
   "codemirror_mode": {
    "name": "ipython",
    "version": 3
   },
   "file_extension": ".py",
   "mimetype": "text/x-python",
   "name": "python",
   "nbconvert_exporter": "python",
   "pygments_lexer": "ipython3",
   "version": "3.7.0"
  }
 },
 "nbformat": 4,
 "nbformat_minor": 1
}
